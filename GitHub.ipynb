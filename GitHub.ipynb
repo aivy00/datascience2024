{
 "cells": [
  {
   "cell_type": "markdown",
   "id": "55534bf9-90ea-4f53-a113-8c490462b9bf",
   "metadata": {},
   "source": [
    "1. GitHub can be used to store and share you code/projects with people.\n",
    "2. Version control allows us to keep track of any changes or edits made to a file. This would help in the project because it would keep track of what I've done and allow me to backtrack my steps.\n",
    "3. In a group project, the version control in GitHub would let the group know who made what changes and you can also work on the project yourself without changing the main file."
   ]
  },
  {
   "cell_type": "code",
   "execution_count": null,
   "id": "4f00c8e0-f1e5-438d-85d8-22315e2e49a6",
   "metadata": {},
   "outputs": [],
   "source": []
  }
 ],
 "metadata": {
  "kernelspec": {
   "display_name": "Python 3 (ipykernel)",
   "language": "python",
   "name": "python3"
  },
  "language_info": {
   "codemirror_mode": {
    "name": "ipython",
    "version": 3
   },
   "file_extension": ".py",
   "mimetype": "text/x-python",
   "name": "python",
   "nbconvert_exporter": "python",
   "pygments_lexer": "ipython3",
   "version": "3.12.7"
  }
 },
 "nbformat": 4,
 "nbformat_minor": 5
}
